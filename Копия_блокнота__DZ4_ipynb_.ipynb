{
  "nbformat": 4,
  "nbformat_minor": 0,
  "metadata": {
    "colab": {
      "provenance": []
    },
    "kernelspec": {
      "name": "python3",
      "display_name": "Python 3"
    },
    "language_info": {
      "name": "python"
    }
  },
  "cells": [
    {
      "cell_type": "code",
      "execution_count": null,
      "metadata": {
        "id": "QSFRES1GWMTZ",
        "colab": {
          "base_uri": "https://localhost:8080/"
        },
        "outputId": "99998e87-4f5c-4637-ac76-7d49dca74dd0"
      },
      "outputs": [
        {
          "output_type": "stream",
          "name": "stdout",
          "text": [
            "[[7 0]\n",
            " [0 1]\n",
            " [5 9]]\n",
            "[[-1  5]\n",
            " [ 1 -2]\n",
            " [ 4  8]]\n"
          ]
        }
      ],
      "source": [
        "import numpy as np\n",
        "# задание 1\n",
        "arr1 = np.array([[1, 2, 1], [-2, 1, 1]])\n",
        "arr2 = np.array([[3, 1], [-1, 0], [2, 4]])\n",
        "arr3 = np.array([[-2, 2], [1, -1], [1, 2]])\n",
        "a = np.transpose(arr1)\n",
        "u1=a+2*arr2\n",
        "u2=arr2+arr3*2\n",
        "print(u1)\n",
        "print(u2)\n"
      ]
    },
    {
      "cell_type": "code",
      "source": [
        "import numpy as np\n",
        "# задание 2\n",
        "arr4 = np.zeros((8, 8))\n",
        "print(arr4)\n",
        "arr4[::1,1::2]= 1\n",
        "print(arr4)"
      ],
      "metadata": {
        "id": "qqaDhorbdUoN",
        "colab": {
          "base_uri": "https://localhost:8080/"
        },
        "outputId": "bebb3a30-308b-4f11-93e2-e7927ab1f054"
      },
      "execution_count": null,
      "outputs": [
        {
          "output_type": "stream",
          "name": "stdout",
          "text": [
            "[[0. 0. 0. 0. 0. 0. 0. 0.]\n",
            " [0. 0. 0. 0. 0. 0. 0. 0.]\n",
            " [0. 0. 0. 0. 0. 0. 0. 0.]\n",
            " [0. 0. 0. 0. 0. 0. 0. 0.]\n",
            " [0. 0. 0. 0. 0. 0. 0. 0.]\n",
            " [0. 0. 0. 0. 0. 0. 0. 0.]\n",
            " [0. 0. 0. 0. 0. 0. 0. 0.]\n",
            " [0. 0. 0. 0. 0. 0. 0. 0.]]\n",
            "[[0. 1. 0. 1. 0. 1. 0. 1.]\n",
            " [0. 1. 0. 1. 0. 1. 0. 1.]\n",
            " [0. 1. 0. 1. 0. 1. 0. 1.]\n",
            " [0. 1. 0. 1. 0. 1. 0. 1.]\n",
            " [0. 1. 0. 1. 0. 1. 0. 1.]\n",
            " [0. 1. 0. 1. 0. 1. 0. 1.]\n",
            " [0. 1. 0. 1. 0. 1. 0. 1.]\n",
            " [0. 1. 0. 1. 0. 1. 0. 1.]]\n"
          ]
        }
      ]
    },
    {
      "cell_type": "code",
      "source": [
        "import numpy as np\n",
        "# задание 3\n",
        "d1 = np.arange(start=0, stop=1.5, step=0.1)\n",
        "print(d1)\n",
        "d2 = np.arange(start=0, stop=6, step=1)\n",
        "print(d2)\n",
        "p2=d2.reshape((3, 2))\n",
        "print(p2)\n",
        "p1=d1.reshape((5, 3))\n",
        "print(p1)\n"
      ],
      "metadata": {
        "colab": {
          "base_uri": "https://localhost:8080/"
        },
        "id": "UWp-Yd6ZvBvy",
        "outputId": "dfa88c75-6dc2-4176-ae49-18bec6184a42"
      },
      "execution_count": 2,
      "outputs": [
        {
          "output_type": "stream",
          "name": "stdout",
          "text": [
            "[0.  0.1 0.2 0.3 0.4 0.5 0.6 0.7 0.8 0.9 1.  1.1 1.2 1.3 1.4]\n",
            "[0 1 2 3 4 5]\n",
            "[[0 1]\n",
            " [2 3]\n",
            " [4 5]]\n",
            "[[0.  0.1 0.2]\n",
            " [0.3 0.4 0.5]\n",
            " [0.6 0.7 0.8]\n",
            " [0.9 1.  1.1]\n",
            " [1.2 1.3 1.4]]\n"
          ]
        }
      ]
    }
  ]
}